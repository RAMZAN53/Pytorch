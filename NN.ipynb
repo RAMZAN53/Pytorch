{
 "cells": [
  {
   "cell_type": "code",
   "execution_count": 1,
   "id": "36685635-7f04-4b1f-8d48-42f2b15e8887",
   "metadata": {},
   "outputs": [],
   "source": [
    "import torch\n",
    "import torch.nn as nn\n",
    "import torch.optim as optim\n",
    "from sklearn.datasets import make_classification\n",
    "from sklearn.model_selection import train_test_split\n",
    "from sklearn.preprocessing import StandardScaler"
   ]
  },
  {
   "cell_type": "code",
   "execution_count": 3,
   "id": "7af00e9e-d6cf-4893-9e19-8b7de6a2eea7",
   "metadata": {},
   "outputs": [],
   "source": [
    "# 1. Generate a synthetic dataset\n",
    "X, y = make_classification(n_samples=1000, n_features=10, n_classes=2, random_state=42)\n",
    "X = StandardScaler().fit_transform(X)  # Normalize features"
   ]
  },
  {
   "cell_type": "code",
   "execution_count": 5,
   "id": "cd914918-f604-4ea3-a671-7ee0f15ef2af",
   "metadata": {},
   "outputs": [],
   "source": [
    "# Convert to PyTorch tensors\n",
    "X = torch.tensor(X, dtype=torch.float32)\n",
    "y = torch.tensor(y, dtype=torch.float32).view(-1, 1)  # Make y shape [N, 1]\n",
    "\n",
    "# Train-test split\n",
    "X_train, X_test, y_train, y_test = train_test_split(X, y, test_size=0.2, random_state=42)"
   ]
  },
  {
   "cell_type": "code",
   "execution_count": 9,
   "id": "24d5fba5-92a7-4c50-bbe2-1989fb777d4a",
   "metadata": {},
   "outputs": [],
   "source": [
    "# 2. Define the ANN model\n",
    "class ANN(nn.Module):\n",
    "    def __init__(self):\n",
    "        super(ANN, self).__init__()\n",
    "        self.fc1 = nn.Linear(10, 16)    # input -> hidden layer 1\n",
    "        self.fc2 = nn.Linear(16, 8)     # hidden layer 1 -> hidden layer 2\n",
    "        self.fc3 = nn.Linear(8, 1)      # hidden layer 2 -> output layer\n",
    "        self.relu = nn.ReLU()\n",
    "        self.sigmoid = nn.Sigmoid()\n",
    "\n",
    "    def forward(self, x):\n",
    "        x = self.relu(self.fc1(x))\n",
    "        x = self.relu(self.fc2(x))\n",
    "        x = self.sigmoid(self.fc3(x))\n",
    "        return x\n",
    "model = ANN()"
   ]
  },
  {
   "cell_type": "code",
   "execution_count": 11,
   "id": "034b0cf8-927e-47d2-aa48-21381318ba53",
   "metadata": {},
   "outputs": [],
   "source": [
    "# 3. Define loss and optimizer\n",
    "criterion = nn.BCELoss()  # Binary Cross Entropy Loss\n",
    "optimizer = optim.Adam(model.parameters(), lr=0.001)"
   ]
  },
  {
   "cell_type": "code",
   "execution_count": 13,
   "id": "3e6b17ae-5d6b-4f26-8edf-cdb074def8cd",
   "metadata": {},
   "outputs": [
    {
     "name": "stdout",
     "output_type": "stream",
     "text": [
      "Epoch [10/50], Loss: 0.7092\n",
      "Epoch [20/50], Loss: 0.7009\n",
      "Epoch [30/50], Loss: 0.6931\n",
      "Epoch [40/50], Loss: 0.6844\n",
      "Epoch [50/50], Loss: 0.6728\n"
     ]
    }
   ],
   "source": [
    "# 4. Training loop\n",
    "epochs = 50\n",
    "for epoch in range(epochs):\n",
    "    model.train()\n",
    "    outputs = model(X_train)\n",
    "    loss = criterion(outputs, y_train)\n",
    "\n",
    "    optimizer.zero_grad()\n",
    "    loss.backward()\n",
    "    optimizer.step()\n",
    "\n",
    "    if (epoch+1) % 10 == 0:\n",
    "        print(f\"Epoch [{epoch+1}/{epochs}], Loss: {loss.item():.4f}\")"
   ]
  },
  {
   "cell_type": "code",
   "execution_count": 15,
   "id": "b38dd07b-8343-4e19-b423-81f7e439bbbf",
   "metadata": {},
   "outputs": [
    {
     "name": "stdout",
     "output_type": "stream",
     "text": [
      "\n",
      "Test Accuracy: 0.5800\n"
     ]
    }
   ],
   "source": [
    "# 5. Evaluation\n",
    "model.eval()\n",
    "with torch.no_grad():\n",
    "    predictions = model(X_test)\n",
    "    predicted_classes = (predictions > 0.5).float()\n",
    "    accuracy = (predicted_classes == y_test).float().mean()\n",
    "    print(f\"\\nTest Accuracy: {accuracy.item():.4f}\")"
   ]
  },
  {
   "cell_type": "code",
   "execution_count": null,
   "id": "6dd5a9ff-dc96-466e-84c1-6dae2d7800a3",
   "metadata": {},
   "outputs": [],
   "source": []
  }
 ],
 "metadata": {
  "kernelspec": {
   "display_name": "Python [conda env:base] *",
   "language": "python",
   "name": "conda-base-py"
  },
  "language_info": {
   "codemirror_mode": {
    "name": "ipython",
    "version": 3
   },
   "file_extension": ".py",
   "mimetype": "text/x-python",
   "name": "python",
   "nbconvert_exporter": "python",
   "pygments_lexer": "ipython3",
   "version": "3.12.7"
  }
 },
 "nbformat": 4,
 "nbformat_minor": 5
}
