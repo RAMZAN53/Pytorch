{
 "cells": [
  {
   "cell_type": "code",
   "execution_count": 7,
   "id": "2b713746-678d-4453-99b6-761e8debd2ce",
   "metadata": {},
   "outputs": [],
   "source": [
    "import torch\n",
    "import torch.nn as nn\n",
    "import numpy as np\n",
    "from sklearn import datasets\n",
    "from sklearn.preprocessing import StandardScaler\n",
    "from sklearn.model_selection import train_test_split"
   ]
  },
  {
   "cell_type": "code",
   "execution_count": 9,
   "id": "1fa90e9b-87d3-4bc4-8333-d793a4d6ec4b",
   "metadata": {},
   "outputs": [],
   "source": [
    "bc=datasets.load_breast_cancer()\n",
    "X,y=bc.data,bc.target\n",
    "\n",
    "n_samples,n_features=X.shape\n",
    "X_train,X_test,y_train,y_test=train_test_split(X,y,test_size=0.2,random_state=1234)"
   ]
  },
  {
   "cell_type": "code",
   "execution_count": 11,
   "id": "ee259a4e-e8dd-42fe-a8ae-7c3090800a99",
   "metadata": {},
   "outputs": [],
   "source": [
    "sc=StandardScaler()\n",
    "X_train=sc.fit_transform(X_train)\n",
    "X_test=sc.transform(X_test)"
   ]
  },
  {
   "cell_type": "code",
   "execution_count": 13,
   "id": "2449778b-39b9-447c-9e78-02f2027d03d2",
   "metadata": {},
   "outputs": [],
   "source": [
    "X_train=torch.from_numpy(X_train.astype(np.float32))\n",
    "X_test=torch.from_numpy(X_test.astype(np.float32))\n",
    "y_train=torch.from_numpy(y_train.astype(np.float32))\n",
    "y_test=torch.from_numpy(y_test.astype(np.float32))"
   ]
  },
  {
   "cell_type": "code",
   "execution_count": 15,
   "id": "37b3aa5e-7e95-4d47-b2f6-77c8a49c4a3a",
   "metadata": {},
   "outputs": [],
   "source": [
    "y_train=y_train.view(y_train.shape[0],1)\n",
    "y_test=y_test.view(y_test.shape[0],1)"
   ]
  },
  {
   "cell_type": "code",
   "execution_count": 25,
   "id": "6684efc8-7d6f-41d2-95ff-a5ee282ae5d6",
   "metadata": {},
   "outputs": [],
   "source": [
    "class logisticRegression(nn.Module):\n",
    "    def __init__(self,n_input_features):\n",
    "        super(logisticRegression,self).__init__()\n",
    "        self.linear=nn.Linear(n_input_features,1)\n",
    "\n",
    "    def forward(self,x):\n",
    "        y_predicted=torch.sigmoid(self.linear(x))\n",
    "        return y_predicted\n",
    "\n",
    "model=logisticRegression(n_features)"
   ]
  },
  {
   "cell_type": "code",
   "execution_count": 27,
   "id": "240b9162-7020-4c3f-8a65-e8b996af066c",
   "metadata": {},
   "outputs": [],
   "source": [
    "learning_rate=0.01\n",
    "criterion=nn.BCELoss()\n",
    "optimizer=torch.optim.SGD(model.parameters(),lr=learning_rate)"
   ]
  },
  {
   "cell_type": "code",
   "execution_count": 31,
   "id": "37d1929d-69c2-411d-8d3d-265a3252b042",
   "metadata": {
    "scrolled": true
   },
   "outputs": [
    {
     "name": "stdout",
     "output_type": "stream",
     "text": [
      "Epoch:10 , Loss:0.2269\n",
      "Epoch:20 , Loss:0.2181\n",
      "Epoch:30 , Loss:0.2103\n",
      "Epoch:40 , Loss:0.2034\n",
      "Epoch:50 , Loss:0.1972\n",
      "Epoch:60 , Loss:0.1916\n",
      "Epoch:70 , Loss:0.1865\n",
      "Epoch:80 , Loss:0.1819\n",
      "Epoch:90 , Loss:0.1776\n",
      "Epoch:100 , Loss:0.1736\n",
      "Accuracy:0.9211\n"
     ]
    }
   ],
   "source": [
    "num_epochs=100\n",
    "for epoch in range(num_epochs):\n",
    "    y_predicted=model(X_train)\n",
    "    loss=criterion(y_predicted,y_train)\n",
    "    loss.backward()\n",
    "    optimizer.step()\n",
    "\n",
    "    optimizer.zero_grad()\n",
    "    if (epoch+1)%10==0:\n",
    "        print(f'Epoch:{epoch+1} , Loss:{loss.item():.4f}')\n",
    "\n",
    "with torch.no_grad():\n",
    "    y_predicted=model(X_test)\n",
    "    y_predicted_cls=y_predicted.round()\n",
    "    acc=y_predicted_cls.eq(y_test).sum()/float(y_test.shape[0])\n",
    "    print(f'Accuracy:{acc:.4f}')"
   ]
  },
  {
   "cell_type": "code",
   "execution_count": null,
   "id": "2eed391a-4944-424d-8849-45056344ff93",
   "metadata": {},
   "outputs": [],
   "source": []
  },
  {
   "cell_type": "code",
   "execution_count": null,
   "id": "e6c45928-918d-404e-b9dd-b0dd646317f0",
   "metadata": {},
   "outputs": [],
   "source": []
  },
  {
   "cell_type": "code",
   "execution_count": null,
   "id": "636fbebe-1cbd-4db8-8f34-cc8587c1744d",
   "metadata": {},
   "outputs": [],
   "source": []
  },
  {
   "cell_type": "code",
   "execution_count": null,
   "id": "7d4b8e1d-e76d-4ff6-9780-69f10851bca0",
   "metadata": {},
   "outputs": [],
   "source": []
  }
 ],
 "metadata": {
  "kernelspec": {
   "display_name": "Python [conda env:base] *",
   "language": "python",
   "name": "conda-base-py"
  },
  "language_info": {
   "codemirror_mode": {
    "name": "ipython",
    "version": 3
   },
   "file_extension": ".py",
   "mimetype": "text/x-python",
   "name": "python",
   "nbconvert_exporter": "python",
   "pygments_lexer": "ipython3",
   "version": "3.12.7"
  }
 },
 "nbformat": 4,
 "nbformat_minor": 5
}
