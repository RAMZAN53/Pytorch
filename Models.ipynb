{
 "cells": [
  {
   "cell_type": "code",
   "execution_count": 2,
   "id": "a621bfb8-0d18-473a-9253-d70f49888264",
   "metadata": {},
   "outputs": [],
   "source": [
    "import torch\n",
    "import torch.nn as nn\n",
    "\n",
    "class LinearRegression(nn.Module):\n",
    "    def __init__(self, input_dim, output_dim):\n",
    "        super().__init__()\n",
    "        self.linear = nn.Linear(input_dim, output_dim)  # Single layer\n",
    "\n",
    "    def forward(self, x):\n",
    "        return self.linear(x)\n",
    "\n",
    "# Initialize\n",
    "model = LinearRegression(input_dim=1, output_dim=1)"
   ]
  },
  {
   "cell_type": "code",
   "execution_count": null,
   "id": "7f8e8b54-8ce1-49d6-9984-0a34f72ee6cc",
   "metadata": {},
   "outputs": [],
   "source": [
    "class CNN(nn.Module):\n",
    "    def __init__(self):\n",
    "        super().__init__()\n",
    "        self.conv1 = nn.Conv2d(3, 16, kernel_size=3)  # Input channels=3 (RGB), output=16\n",
    "        self.pool = nn.MaxPool2d(2, 2)\n",
    "        self.fc1 = nn.Linear(16 * 13 * 13, 10)  # Example output for 10 classes\n",
    "\n",
    "    def forward(self, x):\n",
    "        x = self.pool(torch.relu(self.conv1(x)))\n",
    "        x = x.view(-1, 16 * 13 * 13)  # Flatten\n",
    "        x = self.fc1(x)\n",
    "        return x\n",
    "\n",
    "model = CNN()"
   ]
  },
  {
   "cell_type": "code",
   "execution_count": null,
   "id": "32a5ab92-bb7b-4c3f-888d-677a2cf28860",
   "metadata": {},
   "outputs": [],
   "source": [
    "class RNN(nn.Module):\n",
    "    def __init__(self, input_size, hidden_size, output_size):\n",
    "        super().__init__()\n",
    "        self.rnn = nn.RNN(input_size, hidden_size, batch_first=True)\n",
    "        self.fc = nn.Linear(hidden_size, output_size)\n",
    "\n",
    "    def forward(self, x):\n",
    "        out, _ = self.rnn(x)  # out shape: (batch, seq_len, hidden_size)\n",
    "        out = self.fc(out[:, -1, :])  # Use last timestep\n",
    "        return out\n",
    "\n",
    "model = RNN(input_size=10, hidden_size=20, output_size=1)"
   ]
  },
  {
   "cell_type": "code",
   "execution_count": null,
   "id": "49dba155-f2df-4525-bb8d-2029d14cd9bc",
   "metadata": {},
   "outputs": [],
   "source": [
    "from torch.utils.data import Dataset, DataLoader\n",
    "\n",
    "class CustomDataset(Dataset):\n",
    "    def __init__(self, X, y):\n",
    "        self.X = torch.tensor(X, dtype=torch.float32)\n",
    "        self.y = torch.tensor(y, dtype=torch.float32)\n",
    "\n",
    "    def __len__(self):\n",
    "        return len(self.X)\n",
    "\n",
    "    def __getitem__(self, idx):\n",
    "        return self.X[idx], self.y[idx]\n",
    "\n",
    "# Example data\n",
    "X = [[1], [2], [3]]  # Features\n",
    "y = [[2], [4], [6]]  # Labels\n",
    "dataset = CustomDataset(X, y)\n",
    "dataloader = DataLoader(dataset, batch_size=2, shuffle=True)"
   ]
  },
  {
   "cell_type": "code",
   "execution_count": null,
   "id": "a0e8aca2-0359-48c8-8ff6-58e5a4e72a3f",
   "metadata": {},
   "outputs": [],
   "source": [
    "criterion = nn.MSELoss()  # Mean Squared Error for regression\n",
    "optimizer = torch.optim.SGD(model.parameters(), lr=0.01)  # Stochastic Gradient Descent"
   ]
  },
  {
   "cell_type": "code",
   "execution_count": null,
   "id": "114bf32b-02c6-4143-b98f-8448a1bea23f",
   "metadata": {},
   "outputs": [],
   "source": [
    "epochs = 100\n",
    "for epoch in range(epochs):\n",
    "    for batch_X, batch_y in dataloader:\n",
    "        optimizer.zero_grad()  # Clear gradients\n",
    "        outputs = model(batch_X)  # Forward pass\n",
    "        loss = criterion(outputs, batch_y)\n",
    "        loss.backward()  # Backpropagation\n",
    "        optimizer.step()  # Update weights\n",
    "    print(f\"Epoch {epoch}, Loss: {loss.item():.4f}\")"
   ]
  },
  {
   "cell_type": "code",
   "execution_count": null,
   "id": "b4d1d10c-3bf0-4003-806f-ae0de3fcd972",
   "metadata": {},
   "outputs": [],
   "source": [
    "with torch.no_grad():  # Disable gradient tracking\n",
    "    test_X = torch.tensor([[4.0]])  # New data\n",
    "    pred = model(test_X)\n",
    "    print(f\"Prediction for input 4: {pred.item():.4f}\")  # Should be ~8"
   ]
  },
  {
   "cell_type": "code",
   "execution_count": null,
   "id": "788d4db9-a2a8-4e93-b456-4bec333d40a5",
   "metadata": {},
   "outputs": [],
   "source": [
    "model = torchvision.models.resnet18(pretrained=True)\n",
    "model.fc = nn.Linear(512, 10)  # Replace last layer"
   ]
  },
  {
   "cell_type": "code",
   "execution_count": null,
   "id": "cfe87016-aa20-47ea-993e-57c5cbd56387",
   "metadata": {},
   "outputs": [],
   "source": [
    "device = torch.device(\"cuda\" if torch.cuda.is_available() else \"cpu\")\n",
    "model.to(device)\n",
    "batch_X, batch_y = batch_X.to(device), batch_y.to(device)"
   ]
  },
  {
   "cell_type": "code",
   "execution_count": null,
   "id": "a5f8eb69-2eff-4093-b140-7933ee317be8",
   "metadata": {},
   "outputs": [],
   "source": [
    "torch.save(model.state_dict(), \"model.pth\")\n",
    "model.load_state_dict(torch.load(\"model.pth\"))"
   ]
  },
  {
   "cell_type": "code",
   "execution_count": null,
   "id": "8cb47b03-5b12-41f8-b88a-5a41446f9239",
   "metadata": {},
   "outputs": [],
   "source": []
  },
  {
   "cell_type": "code",
   "execution_count": null,
   "id": "02dcf260-df34-4d61-9afa-84daeb909ff3",
   "metadata": {},
   "outputs": [],
   "source": [
    "import torchvision\n",
    "from torchvision import transforms\n",
    "\n",
    "# Load MNIST dataset\n",
    "transform = transforms.ToTensor()\n",
    "train_data = torchvision.datasets.MNIST(root=\"./data\", train=True, download=True, transform=transform)\n",
    "train_loader = DataLoader(train_data, batch_size=32, shuffle=True)\n",
    "\n",
    "# Define CNN\n",
    "class MNIST_CNN(nn.Module):\n",
    "    def __init__(self):\n",
    "        super().__init__()\n",
    "        self.conv1 = nn.Conv2d(1, 32, 3)  # MNIST is 1-channel (grayscale)\n",
    "        self.fc = nn.Linear(32 * 26 * 26, 10)  # 10 classes\n",
    "\n",
    "    def forward(self, x):\n",
    "        x = torch.relu(self.conv1(x))\n",
    "        x = x.view(-1, 32 * 26 * 26)\n",
    "        return self.fc(x)\n",
    "\n",
    "# Train\n",
    "model = MNIST_CNN()\n",
    "criterion = nn.CrossEntropyLoss()\n",
    "optimizer = torch.optim.Adam(model.parameters())\n",
    "\n",
    "for epoch in range(5):\n",
    "    for images, labels in train_loader:\n",
    "        optimizer.zero_grad()\n",
    "        outputs = model(images)\n",
    "        loss = criterion(outputs, labels)\n",
    "        loss.backward()\n",
    "        optimizer.step()\n",
    "    print(f\"Epoch {epoch}, Loss: {loss.item():.4f}\")"
   ]
  }
 ],
 "metadata": {
  "kernelspec": {
   "display_name": "Python [conda env:base] *",
   "language": "python",
   "name": "conda-base-py"
  },
  "language_info": {
   "codemirror_mode": {
    "name": "ipython",
    "version": 3
   },
   "file_extension": ".py",
   "mimetype": "text/x-python",
   "name": "python",
   "nbconvert_exporter": "python",
   "pygments_lexer": "ipython3",
   "version": "3.12.7"
  }
 },
 "nbformat": 4,
 "nbformat_minor": 5
}
