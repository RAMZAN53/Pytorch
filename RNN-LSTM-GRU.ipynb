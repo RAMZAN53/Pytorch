{
 "cells": [
  {
   "cell_type": "code",
   "execution_count": 3,
   "id": "23e5cc48-4b1d-4f38-8f67-0fcfb07f7a98",
   "metadata": {},
   "outputs": [],
   "source": [
    "import torch\n",
    "import torch.nn as nn\n",
    "import torchvision\n",
    "import torchvision.transforms as transforms"
   ]
  },
  {
   "cell_type": "code",
   "execution_count": 5,
   "id": "fb90bb59-1677-4159-8dcd-8d8855eff424",
   "metadata": {},
   "outputs": [],
   "source": [
    "device=torch.device('cuda' if torch.cuda.is_available() else 'cpu')"
   ]
  },
  {
   "cell_type": "code",
   "execution_count": 7,
   "id": "50b3a9fb-2cb1-4e0c-b51a-68683b6f00ef",
   "metadata": {},
   "outputs": [],
   "source": [
    "input_siize=784 #28x28\n",
    "hidden_size=500\n",
    "num_classes=10\n",
    "num_epochs=2\n",
    "batch_size=100\n",
    "learning_rate=0.001"
   ]
  },
  {
   "cell_type": "code",
   "execution_count": 9,
   "id": "f147dece-c8bf-4d7d-93d7-ca60755d74f1",
   "metadata": {},
   "outputs": [],
   "source": [
    "input_size=28\n",
    "sequence_length=28\n",
    "num_layers=2"
   ]
  },
  {
   "cell_type": "code",
   "execution_count": 13,
   "id": "166c3686-22cb-4f5c-91e3-20cf0cdeee7c",
   "metadata": {},
   "outputs": [
    {
     "name": "stderr",
     "output_type": "stream",
     "text": [
      "100%|██████████| 9.91M/9.91M [00:37<00:00, 263kB/s]\n",
      "100%|██████████| 28.9k/28.9k [00:00<00:00, 140kB/s]\n",
      "100%|██████████| 1.65M/1.65M [00:06<00:00, 249kB/s]\n",
      "100%|██████████| 4.54k/4.54k [00:00<?, ?B/s]\n"
     ]
    }
   ],
   "source": [
    "train_dataset=torchvision.datasets.MNIST(\n",
    "                                        root='./data',\n",
    "                                        train=True,\n",
    "                                        transform=transforms.ToTensor(),\n",
    "                                        download=True\n",
    "                                        )\n",
    "train_dataset=torchvision.datasets.MNIST(\n",
    "                                        root='./data',\n",
    "                                        train=False,\n",
    "                                        transform=transforms.ToTensor(),\n",
    "                                        download=True\n",
    "                                        )"
   ]
  },
  {
   "cell_type": "code",
   "execution_count": 27,
   "id": "927194d0-bf10-476b-91f7-6a0d9c85d8c1",
   "metadata": {},
   "outputs": [],
   "source": [
    "train_loader=torch.utils.data.DataLoader(\n",
    "                                        dataset=train_dataset,\n",
    "                                        batch_size=batch_size,\n",
    "                                        shuffle=True\n",
    ")\n",
    "test_loader=torch.utils.data.DataLoader(\n",
    "                                        dataset=train_dataset,\n",
    "                                        batch_size=batch_size,\n",
    "                                        shuffle=False\n",
    ")"
   ]
  },
  {
   "cell_type": "code",
   "execution_count": 31,
   "id": "4242fd56-8199-4933-9e59-c531a049048f",
   "metadata": {},
   "outputs": [],
   "source": [
    "class NeuralNet(nn.Module):\n",
    "    def __init__(self,input_size,hidden_size,num_classes):\n",
    "        super(NeuralNet,self).__init__()\n",
    "        self.input_size=input_size\n",
    "        self.l1=nn.Linear(input_size,hidden_size)\n",
    "        self.relu=nn.ReLU()\n",
    "        self.l2=nn.Linear(hidden_size,num_classes)\n",
    "\n",
    "    def forward(self,x):\n",
    "        out=self.l1(x)\n",
    "        out=self.relu(out)\n",
    "        out=self.l2(out)\n",
    "        return out\n",
    "\n",
    "model=NeuralNet(input_size,hidden_size,num_classes).to(device)"
   ]
  },
  {
   "cell_type": "code",
   "execution_count": 35,
   "id": "f6727201-e540-4ecd-95e5-bab8ef169dbf",
   "metadata": {},
   "outputs": [],
   "source": [
    "criterion=nn.CrossEntropyLoss()\n",
    "optimizer=torch.optim.Adam(model.parameters(),lr=learning_rate)"
   ]
  },
  {
   "cell_type": "code",
   "execution_count": null,
   "id": "5e79a356-a4bc-411f-b5e6-5b41adbc8649",
   "metadata": {},
   "outputs": [],
   "source": [
    "class RNN(nn.Module):\n",
    "    def __init__(self,input_size,hidden_size,num_layers,num_classes):\n",
    "        super(NeuralNet,self).__init__()\n",
    "        self.input_size=input_size\n",
    "        self.l1=nn.Linear(input_size,hidden_size)\n",
    "        self.relu=nn.ReLU()\n",
    "        self.l2=nn.Linear(hidden_size,num_classes)\n",
    "\n",
    "    def forward(self,x):\n",
    "        out=self.l1(x)\n",
    "        out=self.relu(out)\n",
    "        out=self.l2(out)\n",
    "        return out\n",
    "\n",
    "model=NeuralNet(input_size,hidden_size,num_classes).to(device)"
   ]
  },
  {
   "cell_type": "code",
   "execution_count": null,
   "id": "397b1c86-3557-4e9f-84ba-dafbce340391",
   "metadata": {},
   "outputs": [],
   "source": []
  }
 ],
 "metadata": {
  "kernelspec": {
   "display_name": "Python [conda env:base] *",
   "language": "python",
   "name": "conda-base-py"
  },
  "language_info": {
   "codemirror_mode": {
    "name": "ipython",
    "version": 3
   },
   "file_extension": ".py",
   "mimetype": "text/x-python",
   "name": "python",
   "nbconvert_exporter": "python",
   "pygments_lexer": "ipython3",
   "version": "3.12.7"
  }
 },
 "nbformat": 4,
 "nbformat_minor": 5
}
